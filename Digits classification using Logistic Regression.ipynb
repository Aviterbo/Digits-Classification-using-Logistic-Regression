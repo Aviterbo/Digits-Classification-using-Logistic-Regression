{
  "cells": [
    {
      "metadata": {
        "_uuid": "8f2839f25d086af736a60e9eeb907d3b93b6e0e5",
        "_cell_guid": "b1076dfc-b9ad-4769-8c92-a6c4dae69d19",
        "trusted": true
      },
      "cell_type": "code",
      "source": "# This Python 3 environment comes with many helpful analytics libraries installed\n# It is defined by the kaggle/python docker image: https://github.com/kaggle/docker-python\n# For example, here's several helpful packages to load in \n\nimport numpy as np # linear algebra\nimport pandas as pd # data processing, CSV file I/O (e.g. pd.read_csv)\nimport tensorflow as tf\nimport math\nimport matplotlib.pyplot as plt\n\n# Input data files are available in the \"../input/\" directory.\n# For example, running this (by clicking run or pressing Shift+Enter) will list the files in the input directory\n\nimport os\nprint(os.listdir(\"../input\"))\n\n# Any results you write to the current directory are saved as output.",
      "execution_count": 1,
      "outputs": [
        {
          "output_type": "stream",
          "text": "/opt/conda/lib/python3.6/site-packages/h5py/__init__.py:36: FutureWarning: Conversion of the second argument of issubdtype from `float` to `np.floating` is deprecated. In future, it will be treated as `np.float64 == np.dtype(float).type`.\n  from ._conv import register_converters as _register_converters\n",
          "name": "stderr"
        },
        {
          "output_type": "stream",
          "text": "['train.csv', 'sample_submission.csv', 'test.csv']\n",
          "name": "stdout"
        }
      ]
    },
    {
      "metadata": {
        "_cell_guid": "79c7e3d0-c299-4dcb-8224-4455121ee9b0",
        "collapsed": true,
        "_uuid": "d629ff2d2480ee46fbb7e2d37f6b5fab8052498a",
        "trusted": true
      },
      "cell_type": "code",
      "source": "import pandas as pd\ntrain_df = pd.read_csv(\"../input/train.csv\")\ntest_df = pd.read_csv(\"../input/test.csv\")",
      "execution_count": 2,
      "outputs": []
    },
    {
      "metadata": {
        "trusted": true,
        "_uuid": "c736c27db76974571a11c14fc0c0e6477e009487"
      },
      "cell_type": "code",
      "source": "train_df.head()",
      "execution_count": 3,
      "outputs": [
        {
          "output_type": "execute_result",
          "execution_count": 3,
          "data": {
            "text/plain": "   label  pixel0  pixel1  pixel2  pixel3  pixel4  pixel5  pixel6  pixel7  \\\n0      1       0       0       0       0       0       0       0       0   \n1      0       0       0       0       0       0       0       0       0   \n2      1       0       0       0       0       0       0       0       0   \n3      4       0       0       0       0       0       0       0       0   \n4      0       0       0       0       0       0       0       0       0   \n\n   pixel8    ...     pixel774  pixel775  pixel776  pixel777  pixel778  \\\n0       0    ...            0         0         0         0         0   \n1       0    ...            0         0         0         0         0   \n2       0    ...            0         0         0         0         0   \n3       0    ...            0         0         0         0         0   \n4       0    ...            0         0         0         0         0   \n\n   pixel779  pixel780  pixel781  pixel782  pixel783  \n0         0         0         0         0         0  \n1         0         0         0         0         0  \n2         0         0         0         0         0  \n3         0         0         0         0         0  \n4         0         0         0         0         0  \n\n[5 rows x 785 columns]",
            "text/html": "<div>\n<style scoped>\n    .dataframe tbody tr th:only-of-type {\n        vertical-align: middle;\n    }\n\n    .dataframe tbody tr th {\n        vertical-align: top;\n    }\n\n    .dataframe thead th {\n        text-align: right;\n    }\n</style>\n<table border=\"1\" class=\"dataframe\">\n  <thead>\n    <tr style=\"text-align: right;\">\n      <th></th>\n      <th>label</th>\n      <th>pixel0</th>\n      <th>pixel1</th>\n      <th>pixel2</th>\n      <th>pixel3</th>\n      <th>pixel4</th>\n      <th>pixel5</th>\n      <th>pixel6</th>\n      <th>pixel7</th>\n      <th>pixel8</th>\n      <th>...</th>\n      <th>pixel774</th>\n      <th>pixel775</th>\n      <th>pixel776</th>\n      <th>pixel777</th>\n      <th>pixel778</th>\n      <th>pixel779</th>\n      <th>pixel780</th>\n      <th>pixel781</th>\n      <th>pixel782</th>\n      <th>pixel783</th>\n    </tr>\n  </thead>\n  <tbody>\n    <tr>\n      <th>0</th>\n      <td>1</td>\n      <td>0</td>\n      <td>0</td>\n      <td>0</td>\n      <td>0</td>\n      <td>0</td>\n      <td>0</td>\n      <td>0</td>\n      <td>0</td>\n      <td>0</td>\n      <td>...</td>\n      <td>0</td>\n      <td>0</td>\n      <td>0</td>\n      <td>0</td>\n      <td>0</td>\n      <td>0</td>\n      <td>0</td>\n      <td>0</td>\n      <td>0</td>\n      <td>0</td>\n    </tr>\n    <tr>\n      <th>1</th>\n      <td>0</td>\n      <td>0</td>\n      <td>0</td>\n      <td>0</td>\n      <td>0</td>\n      <td>0</td>\n      <td>0</td>\n      <td>0</td>\n      <td>0</td>\n      <td>0</td>\n      <td>...</td>\n      <td>0</td>\n      <td>0</td>\n      <td>0</td>\n      <td>0</td>\n      <td>0</td>\n      <td>0</td>\n      <td>0</td>\n      <td>0</td>\n      <td>0</td>\n      <td>0</td>\n    </tr>\n    <tr>\n      <th>2</th>\n      <td>1</td>\n      <td>0</td>\n      <td>0</td>\n      <td>0</td>\n      <td>0</td>\n      <td>0</td>\n      <td>0</td>\n      <td>0</td>\n      <td>0</td>\n      <td>0</td>\n      <td>...</td>\n      <td>0</td>\n      <td>0</td>\n      <td>0</td>\n      <td>0</td>\n      <td>0</td>\n      <td>0</td>\n      <td>0</td>\n      <td>0</td>\n      <td>0</td>\n      <td>0</td>\n    </tr>\n    <tr>\n      <th>3</th>\n      <td>4</td>\n      <td>0</td>\n      <td>0</td>\n      <td>0</td>\n      <td>0</td>\n      <td>0</td>\n      <td>0</td>\n      <td>0</td>\n      <td>0</td>\n      <td>0</td>\n      <td>...</td>\n      <td>0</td>\n      <td>0</td>\n      <td>0</td>\n      <td>0</td>\n      <td>0</td>\n      <td>0</td>\n      <td>0</td>\n      <td>0</td>\n      <td>0</td>\n      <td>0</td>\n    </tr>\n    <tr>\n      <th>4</th>\n      <td>0</td>\n      <td>0</td>\n      <td>0</td>\n      <td>0</td>\n      <td>0</td>\n      <td>0</td>\n      <td>0</td>\n      <td>0</td>\n      <td>0</td>\n      <td>0</td>\n      <td>...</td>\n      <td>0</td>\n      <td>0</td>\n      <td>0</td>\n      <td>0</td>\n      <td>0</td>\n      <td>0</td>\n      <td>0</td>\n      <td>0</td>\n      <td>0</td>\n      <td>0</td>\n    </tr>\n  </tbody>\n</table>\n<p>5 rows × 785 columns</p>\n</div>"
          },
          "metadata": {}
        }
      ]
    },
    {
      "metadata": {
        "trusted": true,
        "collapsed": true,
        "_uuid": "0acde63d21cb30186aaffa883c02cd4d141941fa"
      },
      "cell_type": "code",
      "source": "train_data = train_df.values\ntest_data = test_df.values",
      "execution_count": 4,
      "outputs": []
    },
    {
      "metadata": {
        "trusted": true,
        "_uuid": "39d2c8385bfa28ce1f19c0332a65044e3be0aa1b",
        "collapsed": true
      },
      "cell_type": "code",
      "source": "Y = train_data[:,0]\nX = train_data[:,1:]",
      "execution_count": 5,
      "outputs": []
    },
    {
      "metadata": {
        "trusted": true,
        "_uuid": "62283115ba9afe805fde32b6bcc12a4c0809f9a1",
        "collapsed": true
      },
      "cell_type": "code",
      "source": "##split dataset\nfrom sklearn.model_selection import train_test_split\nX_train, X_test, y_train, y_test = train_test_split(X, Y, test_size=0.20, random_state=7)",
      "execution_count": 6,
      "outputs": []
    },
    {
      "metadata": {
        "trusted": true,
        "_uuid": "c1156e797be3d6a8cb21428b0f0c6b414f6fdd31"
      },
      "cell_type": "code",
      "source": "set(y_train)",
      "execution_count": 7,
      "outputs": [
        {
          "output_type": "execute_result",
          "execution_count": 7,
          "data": {
            "text/plain": "{0, 1, 2, 3, 4, 5, 6, 7, 8, 9}"
          },
          "metadata": {}
        }
      ]
    },
    {
      "metadata": {
        "trusted": true,
        "collapsed": true,
        "_uuid": "e97a905f4d7583a5f3ea8632b3df93a6e5e595c2"
      },
      "cell_type": "code",
      "source": "def convert_to_one_hot(Y, C):\n    Y = np.eye(C)[Y.reshape(-1)].T\n    return Y",
      "execution_count": 8,
      "outputs": []
    },
    {
      "metadata": {
        "trusted": true,
        "_uuid": "f61013a86611c09cfd1c34c967cf21beac7e521a"
      },
      "cell_type": "code",
      "source": "# Flatten the training and test images\nX_train_flatten = X_train.reshape(X_train.shape[0], -1).T\nX_test_flatten = X_test.reshape(X_test.shape[0], -1).T\n# Normalize image vectors\nX_train = X_train_flatten / 255.\nX_test = X_test_flatten / 255.\n\n# Convert training and test labels to one hot matrices\nY_train =convert_to_one_hot(y_train, 10)\nY_test = convert_to_one_hot(y_test, 10)\n\nprint(\"number of training examples = \" + str(X_train.shape[1]))\nprint(\"number of test examples = \" + str(X_test.shape[1]))\nprint(\"X_train shape: \" + str(X_train.shape))\nprint(\"Y_train shape: \" + str(Y_train.shape))\nprint(\"X_test shape: \" + str(X_test.shape))\nprint(\"Y_test shape: \" + str(Y_test.shape))",
      "execution_count": 9,
      "outputs": [
        {
          "output_type": "stream",
          "text": "number of training examples = 33600\nnumber of test examples = 8400\nX_train shape: (784, 33600)\nY_train shape: (10, 33600)\nX_test shape: (784, 8400)\nY_test shape: (10, 8400)\n",
          "name": "stdout"
        }
      ]
    },
    {
      "metadata": {
        "trusted": true,
        "collapsed": true,
        "_uuid": "9bb421e7530dea9a754e806832bfe6823ab8cb27"
      },
      "cell_type": "code",
      "source": "def create_placeholders(n_x, n_y):\n   \n    X = tf.placeholder(tf.float32, [n_x, None], name=\"X\")\n    Y = tf.placeholder(tf.float32, [n_y, None], name=\"Y\")\n    keep_prob=tf.placeholder(tf.float32,name=\"Dropout\")\n    \n    return X, Y , keep_prob",
      "execution_count": 10,
      "outputs": []
    },
    {
      "metadata": {
        "trusted": true,
        "_uuid": "eb92b3f441b07e8b8fd4ef037e254b5eaa4a05ea"
      },
      "cell_type": "code",
      "source": "def initialize_parameters():\n    \"\"\"\n    Initializes parameters to build a neural network with tensorflow. \n    \n    Returns:\n    parameters -- a dictionary of tensors containing W1, b1, W2, b2, W3, b3, W4, b4\n    \"\"\"\n    \n    tf.set_random_seed(1)                   # so that your \"random\" numbers match ours\n        \n    \n    W1 = tf.get_variable(\"W1\", [10, 784], initializer = tf.contrib.layers.xavier_initializer(seed=1))\n    b1 = tf.get_variable(\"b1\", [10, 1], initializer = tf.zeros_initializer())\n    #W2 = tf.get_variable(\"W2\", [300, 500], initializer = tf.contrib.layers.xavier_initializer(seed=1))\n    #b2 = tf.get_variable(\"b2\", [300, 1], initializer = tf.zeros_initializer())\n    #W3 = tf.get_variable(\"W3\", [10, 300], initializer = tf.contrib.layers.xavier_initializer(seed=1))\n    #b3 = tf.get_variable(\"b3\", [10, 1], initializer = tf.zeros_initializer())\n    #W4 = tf.get_variable(\"W4\", [6, 10], initializer = tf.contrib.layers.xavier_initializer(seed=1))\n    #b4 = tf.get_variable(\"b4\", [6, 1], initializer = tf.zeros_initializer())\n    \n\n    parameters = {\"W1\": W1,\n                  \"b1\": b1}\n                  #\"W2\": W2,\n                  #\"b2\": b2,\n                  #\"W3\": W3,\n                  #\"b3\": b3}\n                  #\"W4\": W4,\n                  #\"b4\": b4}\n    \n    return parameters",
      "execution_count": 12,
      "outputs": []
    },
    {
      "metadata": {
        "trusted": true,
        "collapsed": true,
        "_uuid": "f551eaed57f7d8246eda11ad33f5bdc99af96bf6"
      },
      "cell_type": "code",
      "source": "def forward_propagation(X, parameters,keep_prob):\n    \n    # Retrieve the parameters from the dictionary \"parameters\" \n    W1 = parameters['W1']\n    b1 = parameters['b1']\n    #W2 = parameters['W2']\n    #b2 = parameters['b2']\n    #W3 = parameters['W3']\n    #b3 = parameters['b3']\n    #W4 = parameters['W4']\n    #b4 = parameters['b4']\n    \n                \n    with tf.device(\"/gpu:0\"):\n        Z1 = tf.add(tf.matmul(W1, X), b1)                      # Z1 = np.dot(W1, X) + b1\n        #A1 = tf.nn.relu(Z1)                                    # A1 = relu(Z1)\n        #drop_out=tf.nn.dropout(A1,keep_prob)\n        #Z2 = tf.add(tf.matmul(W2,A1), b2)                     # Z2 = np.dot(W2, a1) + b2\n        #A2 = tf.nn.relu(Z2)                                    # A2 = relu(Z2)\n        #drop_out=tf.nn.dropout(A2,keep_prob)\n        #Z3 = tf.add(tf.matmul(W3, A2), b3)                     # Z3 = np.dot(W3,Z2) + b3\n        #A3 = tf.nn.relu(Z3)\n        #drop_out=tf.nn.dropout(A3,keep_prob)\n        #Z4 = tf.add(tf.matmul(W4,drop_out),b4)\n    \n    \n    return Z1",
      "execution_count": 13,
      "outputs": []
    },
    {
      "metadata": {
        "trusted": true,
        "collapsed": true,
        "_uuid": "94113e4cb277ba99fd2ae14a61c04d7edd060824"
      },
      "cell_type": "code",
      "source": "def compute_cost(Z1, Y):\n    \n    # to fit the tensorflow requirement for tf.nn.softmax_cross_entropy_with_logits(...,...)\n    logits = tf.transpose(Z1)\n    labels = tf.transpose(Y)\n    \n    \n    cost = tf.reduce_mean(tf.nn.softmax_cross_entropy_with_logits(logits=logits, labels=labels))\n    \n    \n    return cost",
      "execution_count": 14,
      "outputs": []
    },
    {
      "metadata": {
        "trusted": true,
        "collapsed": true,
        "_uuid": "b1992a89d3045d4851b7019972cfd856d2800f79"
      },
      "cell_type": "code",
      "source": "def random_mini_batches(X, Y, mini_batch_size = 8):\n    m = X.shape[1]                  # number of training examples\n    mini_batches = []\n    \n    # Step 1: Shuffle (X, Y)\n    permutation = list(np.random.permutation(m))\n    shuffled_X = X[:, permutation]\n    shuffled_Y = Y[:, permutation].reshape((Y.shape[0],m))\n\n    # Step 2: Partition (shuffled_X, shuffled_Y). Minus the end case.\n    num_complete_minibatches = math.floor(m/mini_batch_size) # number of mini batches of size mini_batch_size in your partitionning\n    for k in range(0, num_complete_minibatches):\n        mini_batch_X = shuffled_X[:, k * mini_batch_size : k * mini_batch_size + mini_batch_size]\n        mini_batch_Y = shuffled_Y[:, k * mini_batch_size : k * mini_batch_size + mini_batch_size]\n        mini_batch = (mini_batch_X, mini_batch_Y)\n        mini_batches.append(mini_batch)\n    \n    # Handling the end case (last mini-batch < mini_batch_size)\n    if m % mini_batch_size != 0:\n        mini_batch_X = shuffled_X[:, num_complete_minibatches * mini_batch_size : m]\n        mini_batch_Y = shuffled_Y[:, num_complete_minibatches * mini_batch_size : m]\n        mini_batch = (mini_batch_X, mini_batch_Y)\n        mini_batches.append(mini_batch)\n    \n    return mini_batches",
      "execution_count": 15,
      "outputs": []
    },
    {
      "metadata": {
        "trusted": true,
        "collapsed": true,
        "_uuid": "766661d3e6fcf689dba04fb19ba62d46fc27dc63"
      },
      "cell_type": "code",
      "source": "def model(X_train, Y_train, X_test, Y_test, learning_rate = 0.0001,\n          num_epochs = 400, minibatch_size = 8, print_cost = True):\n  \n    \n    #Returns:\n    #parameters -- parameters learnt by the model. They can then be used to predict.\n    \n    \n    #ops.reset_default_graph()                         # to be able to rerun the model without overwriting tf variables\n    tf.set_random_seed(1)                             # to keep consistent results\n                                              # to keep consistent results\n    (n_x, m) = X_train.shape                          # (n_x: input size, m : number of examples in the train set)\n    n_y = Y_train.shape[0]                            # n_y : output size\n    costs = []                                        # To keep track of the cost\n    \n    # Create Placeholders of shape (n_x, n_y)\n   \n    X, Y, keep_prob = create_placeholders(n_x, n_y)\n    \n\n    # Initialize parameters\n    \n    parameters = initialize_parameters()\n    \n    \n    # Forward propagation: Build the forward propagation in the tensorflow graph\n    \n    with tf.device(\"/gpu:0\"):\n        Z1 = forward_propagation(X, parameters,keep_prob)\n    \n    \n    # Cost function: Add cost function to tensorflow graph\n    \n        cost = compute_cost(Z1, Y)\n    \n    \n    # Backpropagation: Define the tensorflow optimizer. Use an AdamOptimizer.\n    \n        optimizer = tf.train.AdamOptimizer(learning_rate=learning_rate).minimize(cost)\n    \n    \n    # Initialize all the variables\n    init = tf.global_variables_initializer()\n\n    # Start the session to compute the tensorflow graph\n    with tf.Session() as sess:\n        \n        # Run the initialization\n        sess.run(init)\n        \n        # Do the training loop\n        for epoch in range(num_epochs):\n\n            epoch_cost = 0.                       # Defines a cost related to an epoch\n            num_minibatches = int(m / minibatch_size) # number of minibatches of size minibatch_size in the train set\n            \n            minibatches = random_mini_batches(X_train, Y_train, minibatch_size,)\n\n            for minibatch in minibatches:\n\n                # Select a minibatch\n                (minibatch_X, minibatch_Y) = minibatch\n                \n                # IMPORTANT: The line that runs the graph on a minibatch.\n                # Run the session to execute the \"optimizer\" and the \"cost\", the feedict should contain a minibatch for (X,Y).\n                \n                _ , minibatch_cost = sess.run([optimizer, cost], feed_dict={X: minibatch_X, Y: minibatch_Y})\n                \n                \n                epoch_cost += minibatch_cost / num_minibatches\n\n            # Print the cost every epoch\n            if print_cost == True and epoch % 100 == 0:\n                print (\"Cost after epoch %i: %f\" % (epoch, epoch_cost))\n            if print_cost == True and epoch % 5 == 0:\n                costs.append(epoch_cost)\n                \n        # plot the cost\n        plt.plot(np.squeeze(costs))\n        plt.ylabel('cost')\n        plt.xlabel('iterations (per tens)')\n        plt.title(\"Learning rate =\" + str(learning_rate))\n        plt.show()\n\n        # lets save the parameters in a variable\n        parameters = sess.run(parameters)\n        print(\"Parameters have been trained!\")\n\n        # Calculate the correct predictions\n        correct_prediction = tf.equal(tf.argmax(Z1), tf.argmax(Y))\n\n\n        # Calculate accuracy on the test set\n        accuracy = tf.reduce_mean(tf.cast(correct_prediction, tf.float32))\n\n        print(\"Train Accuracy:\", accuracy.eval({X: X_train, Y: Y_train}))\n        print(\"Test Accuracy:\", accuracy.eval({X: X_test, Y: Y_test}))\n        \n        return parameters",
      "execution_count": 16,
      "outputs": []
    },
    {
      "metadata": {
        "trusted": true,
        "_uuid": "217e95331f177d36a087d656c37afe571fbae831"
      },
      "cell_type": "code",
      "source": "parameters = model(X_train, Y_train, X_test, Y_test)",
      "execution_count": 17,
      "outputs": [
        {
          "output_type": "stream",
          "text": "WARNING:tensorflow:From /opt/conda/lib/python3.6/site-packages/tensorflow/contrib/learn/python/learn/datasets/base.py:198: retry (from tensorflow.contrib.learn.python.learn.datasets.base) is deprecated and will be removed in a future version.\nInstructions for updating:\nUse the retry module or similar alternatives.\nWARNING:tensorflow:From <ipython-input-14-53f45954b284>:8: softmax_cross_entropy_with_logits (from tensorflow.python.ops.nn_ops) is deprecated and will be removed in a future version.\nInstructions for updating:\n\nFuture major versions of TensorFlow will allow gradients to flow\ninto the labels input on backprop by default.\n\nSee tf.nn.softmax_cross_entropy_with_logits_v2.\n\nCost after epoch 0: 0.968960\nCost after epoch 100: 0.217166\nCost after epoch 200: 0.202536\nCost after epoch 300: 0.194511\n",
          "name": "stdout"
        },
        {
          "output_type": "display_data",
          "data": {
            "text/plain": "<matplotlib.figure.Figure at 0x7f8b5691e9e8>",
            "image/png": "[encoded data removed]"
          },
          "metadata": {}
        },
        {
          "output_type": "stream",
          "text": "Parameters have been trained!\nTrain Accuracy: 0.94815475\nTest Accuracy: 0.91892856\n",
          "name": "stdout"
        }
      ]
    },
    {
      "metadata": {
        "trusted": true,
        "collapsed": true,
        "_uuid": "6864d9db853e355789ce1f3dd81df6e1d8a38f11"
      },
      "cell_type": "code",
      "source": "",
      "execution_count": null,
      "outputs": []
    },
    {
      "metadata": {
        "trusted": true,
        "collapsed": true,
        "_uuid": "09d4d7bcc0efb8b5f04ebc65250b4780ef04e299"
      },
      "cell_type": "code",
      "source": "",
      "execution_count": null,
      "outputs": []
    }
  ],
  "metadata": {
    "kernelspec": {
      "display_name": "Python 3",
      "language": "python",
      "name": "python3"
    },
    "language_info": {
      "name": "python",
      "version": "3.6.4",
      "mimetype": "text/x-python",
      "codemirror_mode": {
        "name": "ipython",
        "version": 3
      },
      "pygments_lexer": "ipython3",
      "nbconvert_exporter": "python",
      "file_extension": ".py"
    }
  },
  "nbformat": 4,
  "nbformat_minor": 1
}